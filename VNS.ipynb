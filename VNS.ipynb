{
 "cells": [
  {
   "cell_type": "code",
   "execution_count": 2,
   "id": "82d2daed",
   "metadata": {},
   "outputs": [],
   "source": [
    "from sklearn.model_selection import train_test_split, cross_val_score, GridSearchCV\n",
    "from sklearn.feature_extraction.text import TfidfVectorizer, CountVectorizer\n",
    "from sklearn.naive_bayes import MultinomialNB\n",
    "from sklearn.svm import SVC\n",
    "from sklearn.ensemble import RandomForestClassifier\n",
    "from sklearn.linear_model import LogisticRegression\n",
    "from sklearn.metrics import classification_report, confusion_matrix, accuracy_score\n",
    "from sklearn.utils.class_weight import compute_class_weight\n",
    "import seaborn as sns\n",
    "from wordcloud import WordCloud\n",
    "import pickle\n",
    "import warnings\n",
    "warnings.filterwarnings('ignore')"
   ]
  },
  {
   "cell_type": "code",
   "execution_count": 4,
   "id": "a84ea077",
   "metadata": {},
   "outputs": [
    {
     "ename": "NameError",
     "evalue": "name 'pd' is not defined",
     "output_type": "error",
     "traceback": [
      "\u001b[31m---------------------------------------------------------------------------\u001b[39m",
      "\u001b[31mNameError\u001b[39m                                 Traceback (most recent call last)",
      "\u001b[36mCell\u001b[39m\u001b[36m \u001b[39m\u001b[32mIn[4]\u001b[39m\u001b[32m, line 1\u001b[39m\n\u001b[32m----> \u001b[39m\u001b[32m1\u001b[39m df = \u001b[43mpd\u001b[49m.read_csv(\u001b[33m'\u001b[39m\u001b[33m/Users/mement/Documents/Vietnamese Sentiment Analysis/data/data.csv\u001b[39m\u001b[33m'\u001b[39m)\n\u001b[32m      2\u001b[39m df.head()\n",
      "\u001b[31mNameError\u001b[39m: name 'pd' is not defined"
     ]
    }
   ],
   "source": [
    "df = pd.read_csv('/Users/mement/Documents/Vietnamese Sentiment Analysis/data/data.csv')\n",
    "df.head()"
   ]
  },
  {
   "cell_type": "code",
   "execution_count": 5,
   "id": "a17843ce",
   "metadata": {},
   "outputs": [
    {
     "ename": "NameError",
     "evalue": "name 'df' is not defined",
     "output_type": "error",
     "traceback": [
      "\u001b[31m---------------------------------------------------------------------------\u001b[39m",
      "\u001b[31mNameError\u001b[39m                                 Traceback (most recent call last)",
      "\u001b[36mCell\u001b[39m\u001b[36m \u001b[39m\u001b[32mIn[5]\u001b[39m\u001b[32m, line 2\u001b[39m\n\u001b[32m      1\u001b[39m \u001b[38;5;66;03m# Kích thước và kiểu dữ liệu\u001b[39;00m\n\u001b[32m----> \u001b[39m\u001b[32m2\u001b[39m \u001b[38;5;28mprint\u001b[39m(\u001b[33m\"\u001b[39m\u001b[33mDataset shape:\u001b[39m\u001b[33m\"\u001b[39m, \u001b[43mdf\u001b[49m.shape)\n\u001b[32m      3\u001b[39m \u001b[38;5;28mprint\u001b[39m(\u001b[33m\"\u001b[39m\u001b[38;5;130;01m\\n\u001b[39;00m\u001b[33mData types:\u001b[39m\u001b[33m\"\u001b[39m)\n\u001b[32m      4\u001b[39m \u001b[38;5;28mprint\u001b[39m(df.dtypes)\n",
      "\u001b[31mNameError\u001b[39m: name 'df' is not defined"
     ]
    }
   ],
   "source": [
    "# Kích thước và kiểu dữ liệu\n",
    "print(\"Dataset shape:\", df.shape)\n",
    "print(\"\\nData types:\")\n",
    "print(df.dtypes)\n",
    "print(\"\\nDataset info:\")\n",
    "df.info()"
   ]
  },
  {
   "cell_type": "code",
   "execution_count": 5,
   "id": "40604287",
   "metadata": {},
   "outputs": [
    {
     "name": "stdout",
     "output_type": "stream",
     "text": [
      "Text length statistics:\n",
      "count    31436.000000\n",
      "mean        43.914429\n",
      "std         38.567678\n",
      "min          1.000000\n",
      "25%         19.000000\n",
      "50%         31.000000\n",
      "75%         55.000000\n",
      "max        303.000000\n",
      "Name: text_length, dtype: float64\n",
      "\n",
      "Word count statistics:\n",
      "count    31436.000000\n",
      "mean        10.195699\n",
      "std          8.620445\n",
      "min          1.000000\n",
      "25%          5.000000\n",
      "50%          8.000000\n",
      "75%         13.000000\n",
      "max         74.000000\n",
      "Name: word_count, dtype: float64\n",
      "\n",
      "Sample texts:\n",
      "Text 0: Áo bao đẹp ạ!\n",
      "Label: POS\n",
      "--------------------------------------------------\n",
      "Text 1: Tuyệt vời\n",
      "Label: POS\n",
      "--------------------------------------------------\n",
      "Text 2: 2day ao khong giong trong\n",
      "Label: NEG\n",
      "--------------------------------------------------\n",
      "Text 3: Mùi thơm,bôi lên da mềm da\n",
      "Label: POS\n",
      "--------------------------------------------------\n",
      "Text 4: Vải đẹp, dày dặn\n",
      "Label: POS\n",
      "--------------------------------------------------\n"
     ]
    }
   ],
   "source": [
    "# Độ dài text\n",
    "df['text_length'] = df['content'].str.len()\n",
    "print(\"Text length statistics:\")\n",
    "print(df['text_length'].describe())\n",
    "\n",
    "# Số từ trong mỗi text\n",
    "df['word_count'] = df['content'].str.split().str.len()\n",
    "print(\"\\nWord count statistics:\")\n",
    "print(df['word_count'].describe())\n",
    "\n",
    "# Xem một vài samples\n",
    "print(\"\\nSample texts:\")\n",
    "for i in range(5):\n",
    "    print(f\"Text {i}: {df['content'].iloc[i]}\")\n",
    "    print(f\"Label: {df['label'].iloc[i]}\")\n",
    "    print(\"-\" * 50)"
   ]
  },
  {
   "cell_type": "code",
   "execution_count": 6,
   "id": "e155a92a",
   "metadata": {},
   "outputs": [
    {
     "name": "stdout",
     "output_type": "stream",
     "text": [
      "Label distribution:\n",
      "label\n",
      "POS    20093\n",
      "NEG     6669\n",
      "NEU     4698\n",
      "Name: count, dtype: int64\n",
      "\n",
      "Label proportions:\n",
      "label\n",
      "POS    0.638684\n",
      "NEG    0.211983\n",
      "NEU    0.149332\n",
      "Name: proportion, dtype: float64\n"
     ]
    },
    {
     "data": {
      "image/png": "[encoded data removed]",
      "text/plain": [
       "<Figure size 640x480 with 1 Axes>"
      ]
     },
     "metadata": {},
     "output_type": "display_data"
    }
   ],
   "source": [
    "# Distribution của labels\n",
    "print(\"Label distribution:\")\n",
    "print(df['label'].value_counts())\n",
    "print(\"\\nLabel proportions:\")\n",
    "print(df['label'].value_counts(normalize=True))\n",
    "\n",
    "# Visualize\n",
    "import matplotlib.pyplot as plt\n",
    "df['label'].value_counts().plot(kind='bar')\n",
    "plt.title('Sentiment Distribution')\n",
    "plt.show()"
   ]
  },
  {
   "cell_type": "code",
   "execution_count": 7,
   "id": "e3c9ce4c",
   "metadata": {},
   "outputs": [
    {
     "name": "stdout",
     "output_type": "stream",
     "text": [
      "Unique values in 'start' column:\n",
      "start\n",
      "5    13286\n",
      "4     6807\n",
      "3     4698\n",
      "1     3529\n",
      "2     3140\n",
      "Name: count, dtype: int64\n",
      "\n",
      "Crosstab start vs label:\n",
      "label   NEG   NEU    POS\n",
      "start                   \n",
      "1      3529     0      0\n",
      "2      3140     0      0\n",
      "3         0  4698      0\n",
      "4         0     0   6807\n",
      "5         0     0  13286\n"
     ]
    }
   ],
   "source": [
    "# Xem unique values trong cột start\n",
    "print(\"Unique values in 'start' column:\")\n",
    "print(df['start'].value_counts())\n",
    "\n",
    "# Mối quan hệ giữa start và label\n",
    "print(\"\\nCrosstab start vs label:\")\n",
    "print(pd.crosstab(df['start'], df['label']))"
   ]
  },
  {
   "cell_type": "code",
   "execution_count": 8,
   "id": "a3a5ccca",
   "metadata": {},
   "outputs": [
    {
     "name": "stdout",
     "output_type": "stream",
     "text": [
      "Missing values:\n",
      "content        24\n",
      "label           0\n",
      "start           0\n",
      "text_length    24\n",
      "word_count     24\n",
      "dtype: int64\n",
      "\n",
      "Duplicate rows: 4259\n",
      "Empty texts: 0\n",
      "Very short texts (<5 chars): 287\n"
     ]
    }
   ],
   "source": [
    "# Missing values\n",
    "print(\"Missing values:\")\n",
    "print(df.isnull().sum())\n",
    "\n",
    "# Duplicate rows\n",
    "print(f\"\\nDuplicate rows: {df.duplicated().sum()}\")\n",
    "\n",
    "# Empty or very short texts\n",
    "print(f\"Empty texts: {(df['content'].str.len() == 0).sum()}\")\n",
    "print(f\"Very short texts (<5 chars): {(df['content'].str.len() < 5).sum()}\")"
   ]
  },
  {
   "cell_type": "code",
   "execution_count": 9,
   "id": "d6c4c50e",
   "metadata": {},
   "outputs": [
    {
     "name": "stdout",
     "output_type": "stream",
     "text": [
      "Average text length by sentiment:\n",
      "            mean  median        std\n",
      "label                              \n",
      "NEG    42.355342    32.0  36.015348\n",
      "NEU    37.770771    30.0  28.961452\n",
      "POS    45.868214    32.0  41.097130\n",
      "\n",
      "Average word count by sentiment:\n",
      "            mean  median       std\n",
      "label                             \n",
      "NEG    10.101291     8.0  8.339889\n",
      "NEU     8.968683     7.0  6.635986\n",
      "POS    10.513896     7.0  9.084018\n",
      "\n",
      "Positive samples:\n",
      "POS 1: Áo bao đẹp ạ!\n",
      "POS 2: Tuyệt vời\n",
      "POS 3: Mùi thơm,bôi lên da mềm da\n",
      "\n",
      "Negative samples:\n",
      "NEG 1: 2day ao khong giong trong\n",
      "NEG 2: tất sờn hết ca chưa dùng mà vay r\n",
      "NEG 3: Cảm giác mua hàng bị hớ thật tệ\n"
     ]
    }
   ],
   "source": [
    "# Text length theo sentiment\n",
    "print(\"Average text length by sentiment:\")\n",
    "print(df.groupby('label')['text_length'].agg(['mean', 'median', 'std']))\n",
    "\n",
    "# Word count theo sentiment\n",
    "print(\"\\nAverage word count by sentiment:\")\n",
    "print(df.groupby('label')['word_count'].agg(['mean', 'median', 'std']))\n",
    "\n",
    "# Xem samples của từng loại\n",
    "print(\"\\nPositive samples:\")\n",
    "pos_samples = df[df['label'] == 'POS']['content'].head(3)\n",
    "for i, text in enumerate(pos_samples):\n",
    "    print(f\"POS {i+1}: {text}\")\n",
    "\n",
    "print(\"\\nNegative samples:\")\n",
    "neg_samples = df[df['label'] == 'NEG']['content'].head(3)\n",
    "for i, text in enumerate(neg_samples):\n",
    "    print(f\"NEG {i+1}: {text}\")"
   ]
  },
  {
   "cell_type": "code",
   "execution_count": 10,
   "id": "5ea42fd1",
   "metadata": {},
   "outputs": [
    {
     "name": "stdout",
     "output_type": "stream",
     "text": [
      "Dataset after cleaning: (26472, 5)\n"
     ]
    }
   ],
   "source": [
    "# Remove missing values\n",
    "df_clean = df.dropna(subset=['content'])\n",
    "\n",
    "# Remove duplicates\n",
    "df_clean = df_clean.drop_duplicates(subset=['content'])\n",
    "\n",
    "# Remove very short texts\n",
    "df_clean = df_clean[df_clean['content'].str.len() >= 3]\n",
    "\n",
    "print(f\"Dataset after cleaning: {df_clean.shape}\")"
   ]
  },
  {
   "cell_type": "code",
   "execution_count": 11,
   "id": "4997eb44",
   "metadata": {},
   "outputs": [],
   "source": [
    "def preprocess_vietnamese_text(text):\n",
    "    # Lowercase\n",
    "    text = text.lower()\n",
    "    \n",
    "    # Handle common teen code\n",
    "    text = re.sub(r'\\b2day\\b', 'hôm nay', text)\n",
    "    text = re.sub(r'\\bko\\b', 'không', text)\n",
    "    text = re.sub(r'\\bk\\b', 'không', text)\n",
    "    text = re.sub(r'\\br\\b', 'rồi', text)\n",
    "    \n",
    "    # Remove punctuation\n",
    "    text = text.translate(str.maketrans('', '', string.punctuation))\n",
    "    \n",
    "    # Remove extra whitespace\n",
    "    text = ' '.join(text.split())\n",
    "    \n",
    "    return text\n",
    "\n",
    "# Apply preprocessing\n",
    "df_clean['content_processed'] = df_clean['content'].apply(preprocess_vietnamese_text)"
   ]
  },
  {
   "cell_type": "code",
   "execution_count": null,
   "id": "b97d3fda",
   "metadata": {},
   "outputs": [],
   "source": []
  },
  {
   "cell_type": "code",
   "execution_count": null,
   "id": "c567ac7a",
   "metadata": {},
   "outputs": [],
   "source": []
  },
  {
   "cell_type": "code",
   "execution_count": null,
   "id": "5d4df969",
   "metadata": {},
   "outputs": [],
   "source": []
  }
 ],
 "metadata": {
  "kernelspec": {
   "display_name": "Python (.venv - VNS)",
   "language": "python",
   "name": "vns_venv"
  },
  "language_info": {
   "codemirror_mode": {
    "name": "ipython",
    "version": 3
   },
   "file_extension": ".py",
   "mimetype": "text/x-python",
   "name": "python",
   "nbconvert_exporter": "python",
   "pygments_lexer": "ipython3",
   "version": "3.11.8"
  }
 },
 "nbformat": 4,
 "nbformat_minor": 5
}
